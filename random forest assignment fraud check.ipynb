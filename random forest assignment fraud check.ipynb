{
 "cells": [
  {
   "cell_type": "code",
   "execution_count": 1,
   "id": "20d7952f",
   "metadata": {},
   "outputs": [],
   "source": [
    "import pandas as pd\n",
    "import matplotlib.pyplot as plt\n",
    "from sklearn import datasets  \n",
    "import numpy as np\n",
    "from sklearn.model_selection import train_test_split\n",
    "from sklearn.tree import  DecisionTreeClassifier\n",
    "from sklearn import tree\n",
    "from sklearn.metrics import classification_report\n",
    "from sklearn import preprocessing\n",
    "from sklearn.metrics import confusion_matrix\n",
    "from scipy.special import boxcox1p\n",
    "import warnings\n",
    "warnings.filterwarnings(\"ignore\")\n",
    "from sklearn.preprocessing import LabelEncoder\n",
    "from sklearn.preprocessing import StandardScaler"
   ]
  },
  {
   "cell_type": "code",
   "execution_count": 3,
   "id": "fdb185dd",
   "metadata": {},
   "outputs": [
    {
     "name": "stdout",
     "output_type": "stream",
     "text": [
      "  Undergrad Marital.Status  Taxable.Income  City.Population  Work.Experience  \\\n",
      "0        NO         Single           68833            50047               10   \n",
      "1       YES       Divorced           33700           134075               18   \n",
      "2        NO        Married           36925           160205               30   \n",
      "3       YES         Single           50190           193264               15   \n",
      "4        NO        Married           81002            27533               28   \n",
      "5        NO       Divorced           33329           116382                0   \n",
      "6        NO       Divorced           83357            80890                8   \n",
      "7       YES         Single           62774           131253                3   \n",
      "8        NO         Single           83519           102481               12   \n",
      "9       YES       Divorced           98152           155482                4   \n",
      "\n",
      "  Urban  \n",
      "0   YES  \n",
      "1   YES  \n",
      "2   YES  \n",
      "3   YES  \n",
      "4    NO  \n",
      "5    NO  \n",
      "6   YES  \n",
      "7   YES  \n",
      "8   YES  \n",
      "9   YES  \n",
      "Shape = (600, 6)\n"
     ]
    }
   ],
   "source": [
    "fraud = pd.read_csv(\"Fraud_check (1).csv\")\n",
    "print(fraud.head(10))\n",
    "print(\"Shape =\", fraud.shape)"
   ]
  },
  {
   "cell_type": "code",
   "execution_count": 4,
   "id": "4377ff4c",
   "metadata": {},
   "outputs": [
    {
     "data": {
      "text/html": [
       "<div>\n",
       "<style scoped>\n",
       "    .dataframe tbody tr th:only-of-type {\n",
       "        vertical-align: middle;\n",
       "    }\n",
       "\n",
       "    .dataframe tbody tr th {\n",
       "        vertical-align: top;\n",
       "    }\n",
       "\n",
       "    .dataframe thead th {\n",
       "        text-align: right;\n",
       "    }\n",
       "</style>\n",
       "<table border=\"1\" class=\"dataframe\">\n",
       "  <thead>\n",
       "    <tr style=\"text-align: right;\">\n",
       "      <th></th>\n",
       "      <th>0</th>\n",
       "      <th>1</th>\n",
       "      <th>2</th>\n",
       "      <th>3</th>\n",
       "      <th>4</th>\n",
       "      <th>5</th>\n",
       "      <th>6</th>\n",
       "      <th>7</th>\n",
       "      <th>8</th>\n",
       "      <th>9</th>\n",
       "      <th>...</th>\n",
       "      <th>590</th>\n",
       "      <th>591</th>\n",
       "      <th>592</th>\n",
       "      <th>593</th>\n",
       "      <th>594</th>\n",
       "      <th>595</th>\n",
       "      <th>596</th>\n",
       "      <th>597</th>\n",
       "      <th>598</th>\n",
       "      <th>599</th>\n",
       "    </tr>\n",
       "  </thead>\n",
       "  <tbody>\n",
       "    <tr>\n",
       "      <th>Undergrad</th>\n",
       "      <td>NO</td>\n",
       "      <td>YES</td>\n",
       "      <td>NO</td>\n",
       "      <td>YES</td>\n",
       "      <td>NO</td>\n",
       "      <td>NO</td>\n",
       "      <td>NO</td>\n",
       "      <td>YES</td>\n",
       "      <td>NO</td>\n",
       "      <td>YES</td>\n",
       "      <td>...</td>\n",
       "      <td>NO</td>\n",
       "      <td>YES</td>\n",
       "      <td>YES</td>\n",
       "      <td>NO</td>\n",
       "      <td>NO</td>\n",
       "      <td>YES</td>\n",
       "      <td>YES</td>\n",
       "      <td>NO</td>\n",
       "      <td>YES</td>\n",
       "      <td>NO</td>\n",
       "    </tr>\n",
       "    <tr>\n",
       "      <th>Marital.Status</th>\n",
       "      <td>Single</td>\n",
       "      <td>Divorced</td>\n",
       "      <td>Married</td>\n",
       "      <td>Single</td>\n",
       "      <td>Married</td>\n",
       "      <td>Divorced</td>\n",
       "      <td>Divorced</td>\n",
       "      <td>Single</td>\n",
       "      <td>Single</td>\n",
       "      <td>Divorced</td>\n",
       "      <td>...</td>\n",
       "      <td>Married</td>\n",
       "      <td>Single</td>\n",
       "      <td>Single</td>\n",
       "      <td>Divorced</td>\n",
       "      <td>Married</td>\n",
       "      <td>Divorced</td>\n",
       "      <td>Divorced</td>\n",
       "      <td>Divorced</td>\n",
       "      <td>Married</td>\n",
       "      <td>Divorced</td>\n",
       "    </tr>\n",
       "    <tr>\n",
       "      <th>Taxable.Income</th>\n",
       "      <td>68833</td>\n",
       "      <td>33700</td>\n",
       "      <td>36925</td>\n",
       "      <td>50190</td>\n",
       "      <td>81002</td>\n",
       "      <td>33329</td>\n",
       "      <td>83357</td>\n",
       "      <td>62774</td>\n",
       "      <td>83519</td>\n",
       "      <td>98152</td>\n",
       "      <td>...</td>\n",
       "      <td>43018</td>\n",
       "      <td>27394</td>\n",
       "      <td>68152</td>\n",
       "      <td>84775</td>\n",
       "      <td>47364</td>\n",
       "      <td>76340</td>\n",
       "      <td>69967</td>\n",
       "      <td>47334</td>\n",
       "      <td>98592</td>\n",
       "      <td>96519</td>\n",
       "    </tr>\n",
       "    <tr>\n",
       "      <th>City.Population</th>\n",
       "      <td>50047</td>\n",
       "      <td>134075</td>\n",
       "      <td>160205</td>\n",
       "      <td>193264</td>\n",
       "      <td>27533</td>\n",
       "      <td>116382</td>\n",
       "      <td>80890</td>\n",
       "      <td>131253</td>\n",
       "      <td>102481</td>\n",
       "      <td>155482</td>\n",
       "      <td>...</td>\n",
       "      <td>85195</td>\n",
       "      <td>132859</td>\n",
       "      <td>75143</td>\n",
       "      <td>131963</td>\n",
       "      <td>97526</td>\n",
       "      <td>39492</td>\n",
       "      <td>55369</td>\n",
       "      <td>154058</td>\n",
       "      <td>180083</td>\n",
       "      <td>158137</td>\n",
       "    </tr>\n",
       "    <tr>\n",
       "      <th>Work.Experience</th>\n",
       "      <td>10</td>\n",
       "      <td>18</td>\n",
       "      <td>30</td>\n",
       "      <td>15</td>\n",
       "      <td>28</td>\n",
       "      <td>0</td>\n",
       "      <td>8</td>\n",
       "      <td>3</td>\n",
       "      <td>12</td>\n",
       "      <td>4</td>\n",
       "      <td>...</td>\n",
       "      <td>14</td>\n",
       "      <td>18</td>\n",
       "      <td>16</td>\n",
       "      <td>10</td>\n",
       "      <td>9</td>\n",
       "      <td>7</td>\n",
       "      <td>2</td>\n",
       "      <td>0</td>\n",
       "      <td>17</td>\n",
       "      <td>16</td>\n",
       "    </tr>\n",
       "    <tr>\n",
       "      <th>Urban</th>\n",
       "      <td>YES</td>\n",
       "      <td>YES</td>\n",
       "      <td>YES</td>\n",
       "      <td>YES</td>\n",
       "      <td>NO</td>\n",
       "      <td>NO</td>\n",
       "      <td>YES</td>\n",
       "      <td>YES</td>\n",
       "      <td>YES</td>\n",
       "      <td>YES</td>\n",
       "      <td>...</td>\n",
       "      <td>YES</td>\n",
       "      <td>YES</td>\n",
       "      <td>NO</td>\n",
       "      <td>YES</td>\n",
       "      <td>YES</td>\n",
       "      <td>YES</td>\n",
       "      <td>YES</td>\n",
       "      <td>YES</td>\n",
       "      <td>NO</td>\n",
       "      <td>NO</td>\n",
       "    </tr>\n",
       "  </tbody>\n",
       "</table>\n",
       "<p>6 rows × 600 columns</p>\n",
       "</div>"
      ],
      "text/plain": [
       "                    0         1        2       3        4         5    \\\n",
       "Undergrad            NO       YES       NO     YES       NO        NO   \n",
       "Marital.Status   Single  Divorced  Married  Single  Married  Divorced   \n",
       "Taxable.Income    68833     33700    36925   50190    81002     33329   \n",
       "City.Population   50047    134075   160205  193264    27533    116382   \n",
       "Work.Experience      10        18       30      15       28         0   \n",
       "Urban               YES       YES      YES     YES       NO        NO   \n",
       "\n",
       "                      6       7       8         9    ...      590     591  \\\n",
       "Undergrad              NO     YES      NO       YES  ...       NO     YES   \n",
       "Marital.Status   Divorced  Single  Single  Divorced  ...  Married  Single   \n",
       "Taxable.Income      83357   62774   83519     98152  ...    43018   27394   \n",
       "City.Population     80890  131253  102481    155482  ...    85195  132859   \n",
       "Work.Experience         8       3      12         4  ...       14      18   \n",
       "Urban                 YES     YES     YES       YES  ...      YES     YES   \n",
       "\n",
       "                    592       593      594       595       596       597  \\\n",
       "Undergrad           YES        NO       NO       YES       YES        NO   \n",
       "Marital.Status   Single  Divorced  Married  Divorced  Divorced  Divorced   \n",
       "Taxable.Income    68152     84775    47364     76340     69967     47334   \n",
       "City.Population   75143    131963    97526     39492     55369    154058   \n",
       "Work.Experience      16        10        9         7         2         0   \n",
       "Urban                NO       YES      YES       YES       YES       YES   \n",
       "\n",
       "                     598       599  \n",
       "Undergrad            YES        NO  \n",
       "Marital.Status   Married  Divorced  \n",
       "Taxable.Income     98592     96519  \n",
       "City.Population   180083    158137  \n",
       "Work.Experience       17        16  \n",
       "Urban                 NO        NO  \n",
       "\n",
       "[6 rows x 600 columns]"
      ]
     },
     "execution_count": 4,
     "metadata": {},
     "output_type": "execute_result"
    }
   ],
   "source": [
    "fraud.T"
   ]
  },
  {
   "cell_type": "code",
   "execution_count": 5,
   "id": "7a53bc3b",
   "metadata": {},
   "outputs": [
    {
     "data": {
      "text/html": [
       "<div>\n",
       "<style scoped>\n",
       "    .dataframe tbody tr th:only-of-type {\n",
       "        vertical-align: middle;\n",
       "    }\n",
       "\n",
       "    .dataframe tbody tr th {\n",
       "        vertical-align: top;\n",
       "    }\n",
       "\n",
       "    .dataframe thead th {\n",
       "        text-align: right;\n",
       "    }\n",
       "</style>\n",
       "<table border=\"1\" class=\"dataframe\">\n",
       "  <thead>\n",
       "    <tr style=\"text-align: right;\">\n",
       "      <th></th>\n",
       "      <th>Taxable.Income</th>\n",
       "      <th>City.Population</th>\n",
       "      <th>Work.Experience</th>\n",
       "    </tr>\n",
       "  </thead>\n",
       "  <tbody>\n",
       "    <tr>\n",
       "      <th>count</th>\n",
       "      <td>600.000000</td>\n",
       "      <td>600.000000</td>\n",
       "      <td>600.000000</td>\n",
       "    </tr>\n",
       "    <tr>\n",
       "      <th>mean</th>\n",
       "      <td>55208.375000</td>\n",
       "      <td>108747.368333</td>\n",
       "      <td>15.558333</td>\n",
       "    </tr>\n",
       "    <tr>\n",
       "      <th>std</th>\n",
       "      <td>26204.827597</td>\n",
       "      <td>49850.075134</td>\n",
       "      <td>8.842147</td>\n",
       "    </tr>\n",
       "    <tr>\n",
       "      <th>min</th>\n",
       "      <td>10003.000000</td>\n",
       "      <td>25779.000000</td>\n",
       "      <td>0.000000</td>\n",
       "    </tr>\n",
       "    <tr>\n",
       "      <th>25%</th>\n",
       "      <td>32871.500000</td>\n",
       "      <td>66966.750000</td>\n",
       "      <td>8.000000</td>\n",
       "    </tr>\n",
       "    <tr>\n",
       "      <th>50%</th>\n",
       "      <td>55074.500000</td>\n",
       "      <td>106493.500000</td>\n",
       "      <td>15.000000</td>\n",
       "    </tr>\n",
       "    <tr>\n",
       "      <th>75%</th>\n",
       "      <td>78611.750000</td>\n",
       "      <td>150114.250000</td>\n",
       "      <td>24.000000</td>\n",
       "    </tr>\n",
       "    <tr>\n",
       "      <th>max</th>\n",
       "      <td>99619.000000</td>\n",
       "      <td>199778.000000</td>\n",
       "      <td>30.000000</td>\n",
       "    </tr>\n",
       "  </tbody>\n",
       "</table>\n",
       "</div>"
      ],
      "text/plain": [
       "       Taxable.Income  City.Population  Work.Experience\n",
       "count      600.000000       600.000000       600.000000\n",
       "mean     55208.375000    108747.368333        15.558333\n",
       "std      26204.827597     49850.075134         8.842147\n",
       "min      10003.000000     25779.000000         0.000000\n",
       "25%      32871.500000     66966.750000         8.000000\n",
       "50%      55074.500000    106493.500000        15.000000\n",
       "75%      78611.750000    150114.250000        24.000000\n",
       "max      99619.000000    199778.000000        30.000000"
      ]
     },
     "execution_count": 5,
     "metadata": {},
     "output_type": "execute_result"
    }
   ],
   "source": [
    "fraud.describe()"
   ]
  },
  {
   "cell_type": "code",
   "execution_count": 6,
   "id": "69538aa8",
   "metadata": {},
   "outputs": [
    {
     "name": "stdout",
     "output_type": "stream",
     "text": [
      "<class 'pandas.core.frame.DataFrame'>\n",
      "RangeIndex: 600 entries, 0 to 599\n",
      "Data columns (total 6 columns):\n",
      " #   Column           Non-Null Count  Dtype \n",
      "---  ------           --------------  ----- \n",
      " 0   Undergrad        600 non-null    object\n",
      " 1   Marital.Status   600 non-null    object\n",
      " 2   Taxable.Income   600 non-null    int64 \n",
      " 3   City.Population  600 non-null    int64 \n",
      " 4   Work.Experience  600 non-null    int64 \n",
      " 5   Urban            600 non-null    object\n",
      "dtypes: int64(3), object(3)\n",
      "memory usage: 28.2+ KB\n"
     ]
    }
   ],
   "source": [
    "fraud.info()"
   ]
  },
  {
   "cell_type": "code",
   "execution_count": 7,
   "id": "b27ceb54",
   "metadata": {},
   "outputs": [
    {
     "data": {
      "text/plain": [
       "<AxesSubplot:>"
      ]
     },
     "execution_count": 7,
     "metadata": {},
     "output_type": "execute_result"
    },
    {
     "data": {
      "image/png": "[encoded data removed]",
      "text/plain": [
       "<Figure size 720x360 with 2 Axes>"
      ]
     },
     "metadata": {
      "needs_background": "light"
     },
     "output_type": "display_data"
    }
   ],
   "source": [
    "import seaborn as sns\n",
    "plt.figure(figsize=(10,5))\n",
    "sns.heatmap(fraud.corr(),annot=True)\n"
   ]
  },
  {
   "cell_type": "code",
   "execution_count": 8,
   "id": "56328783",
   "metadata": {},
   "outputs": [],
   "source": [
    "def distplot(param):\n",
    "    plt.figure(figsize=(20,15))\n",
    "    sns.distplot(fraud[param], color = \"blue\", hist_kws={\"rwidth\":0.80, 'alpha':1.0})\n",
    "    plt.xticks(np.arange(0,20,1),rotation=45)\n",
    "    plt.show()"
   ]
  },
  {
   "cell_type": "code",
   "execution_count": 9,
   "id": "29a87592",
   "metadata": {},
   "outputs": [
    {
     "data": {
      "image/png": "[encoded data removed]",
      "text/plain": [
       "<Figure size 1440x1080 with 1 Axes>"
      ]
     },
     "metadata": {
      "needs_background": "light"
     },
     "output_type": "display_data"
    }
   ],
   "source": [
    "distplot(\"Taxable.Income\")"
   ]
  },
  {
   "cell_type": "code",
   "execution_count": 10,
   "id": "be198844",
   "metadata": {},
   "outputs": [],
   "source": [
    "#Changing the categorical variables into dummies."
   ]
  },
  {
   "cell_type": "code",
   "execution_count": 11,
   "id": "03312988",
   "metadata": {},
   "outputs": [],
   "source": [
    "fraud1 = pd.get_dummies(fraud)"
   ]
  },
  {
   "cell_type": "code",
   "execution_count": 12,
   "id": "e2d4bd23",
   "metadata": {},
   "outputs": [],
   "source": [
    "#Converting the Target variable i.e. Sales into Categorical"
   ]
  },
  {
   "cell_type": "code",
   "execution_count": 13,
   "id": "d0436feb",
   "metadata": {},
   "outputs": [
    {
     "data": {
      "text/html": [
       "<div>\n",
       "<style scoped>\n",
       "    .dataframe tbody tr th:only-of-type {\n",
       "        vertical-align: middle;\n",
       "    }\n",
       "\n",
       "    .dataframe tbody tr th {\n",
       "        vertical-align: top;\n",
       "    }\n",
       "\n",
       "    .dataframe thead th {\n",
       "        text-align: right;\n",
       "    }\n",
       "</style>\n",
       "<table border=\"1\" class=\"dataframe\">\n",
       "  <thead>\n",
       "    <tr style=\"text-align: right;\">\n",
       "      <th></th>\n",
       "      <th>Taxable.Income</th>\n",
       "      <th>City.Population</th>\n",
       "      <th>Work.Experience</th>\n",
       "      <th>Undergrad_NO</th>\n",
       "      <th>Undergrad_YES</th>\n",
       "      <th>Marital.Status_Divorced</th>\n",
       "      <th>Marital.Status_Married</th>\n",
       "      <th>Marital.Status_Single</th>\n",
       "      <th>Urban_NO</th>\n",
       "      <th>Urban_YES</th>\n",
       "      <th>Category</th>\n",
       "    </tr>\n",
       "  </thead>\n",
       "  <tbody>\n",
       "    <tr>\n",
       "      <th>0</th>\n",
       "      <td>68833</td>\n",
       "      <td>50047</td>\n",
       "      <td>10</td>\n",
       "      <td>1</td>\n",
       "      <td>0</td>\n",
       "      <td>0</td>\n",
       "      <td>0</td>\n",
       "      <td>1</td>\n",
       "      <td>0</td>\n",
       "      <td>1</td>\n",
       "      <td>Good</td>\n",
       "    </tr>\n",
       "    <tr>\n",
       "      <th>1</th>\n",
       "      <td>33700</td>\n",
       "      <td>134075</td>\n",
       "      <td>18</td>\n",
       "      <td>0</td>\n",
       "      <td>1</td>\n",
       "      <td>1</td>\n",
       "      <td>0</td>\n",
       "      <td>0</td>\n",
       "      <td>0</td>\n",
       "      <td>1</td>\n",
       "      <td>Good</td>\n",
       "    </tr>\n",
       "    <tr>\n",
       "      <th>2</th>\n",
       "      <td>36925</td>\n",
       "      <td>160205</td>\n",
       "      <td>30</td>\n",
       "      <td>1</td>\n",
       "      <td>0</td>\n",
       "      <td>0</td>\n",
       "      <td>1</td>\n",
       "      <td>0</td>\n",
       "      <td>0</td>\n",
       "      <td>1</td>\n",
       "      <td>Good</td>\n",
       "    </tr>\n",
       "    <tr>\n",
       "      <th>3</th>\n",
       "      <td>50190</td>\n",
       "      <td>193264</td>\n",
       "      <td>15</td>\n",
       "      <td>0</td>\n",
       "      <td>1</td>\n",
       "      <td>0</td>\n",
       "      <td>0</td>\n",
       "      <td>1</td>\n",
       "      <td>0</td>\n",
       "      <td>1</td>\n",
       "      <td>Good</td>\n",
       "    </tr>\n",
       "    <tr>\n",
       "      <th>4</th>\n",
       "      <td>81002</td>\n",
       "      <td>27533</td>\n",
       "      <td>28</td>\n",
       "      <td>1</td>\n",
       "      <td>0</td>\n",
       "      <td>0</td>\n",
       "      <td>1</td>\n",
       "      <td>0</td>\n",
       "      <td>1</td>\n",
       "      <td>0</td>\n",
       "      <td>Good</td>\n",
       "    </tr>\n",
       "    <tr>\n",
       "      <th>...</th>\n",
       "      <td>...</td>\n",
       "      <td>...</td>\n",
       "      <td>...</td>\n",
       "      <td>...</td>\n",
       "      <td>...</td>\n",
       "      <td>...</td>\n",
       "      <td>...</td>\n",
       "      <td>...</td>\n",
       "      <td>...</td>\n",
       "      <td>...</td>\n",
       "      <td>...</td>\n",
       "    </tr>\n",
       "    <tr>\n",
       "      <th>595</th>\n",
       "      <td>76340</td>\n",
       "      <td>39492</td>\n",
       "      <td>7</td>\n",
       "      <td>0</td>\n",
       "      <td>1</td>\n",
       "      <td>1</td>\n",
       "      <td>0</td>\n",
       "      <td>0</td>\n",
       "      <td>0</td>\n",
       "      <td>1</td>\n",
       "      <td>Good</td>\n",
       "    </tr>\n",
       "    <tr>\n",
       "      <th>596</th>\n",
       "      <td>69967</td>\n",
       "      <td>55369</td>\n",
       "      <td>2</td>\n",
       "      <td>0</td>\n",
       "      <td>1</td>\n",
       "      <td>1</td>\n",
       "      <td>0</td>\n",
       "      <td>0</td>\n",
       "      <td>0</td>\n",
       "      <td>1</td>\n",
       "      <td>Good</td>\n",
       "    </tr>\n",
       "    <tr>\n",
       "      <th>597</th>\n",
       "      <td>47334</td>\n",
       "      <td>154058</td>\n",
       "      <td>0</td>\n",
       "      <td>1</td>\n",
       "      <td>0</td>\n",
       "      <td>1</td>\n",
       "      <td>0</td>\n",
       "      <td>0</td>\n",
       "      <td>0</td>\n",
       "      <td>1</td>\n",
       "      <td>Good</td>\n",
       "    </tr>\n",
       "    <tr>\n",
       "      <th>598</th>\n",
       "      <td>98592</td>\n",
       "      <td>180083</td>\n",
       "      <td>17</td>\n",
       "      <td>0</td>\n",
       "      <td>1</td>\n",
       "      <td>0</td>\n",
       "      <td>1</td>\n",
       "      <td>0</td>\n",
       "      <td>1</td>\n",
       "      <td>0</td>\n",
       "      <td>Good</td>\n",
       "    </tr>\n",
       "    <tr>\n",
       "      <th>599</th>\n",
       "      <td>96519</td>\n",
       "      <td>158137</td>\n",
       "      <td>16</td>\n",
       "      <td>1</td>\n",
       "      <td>0</td>\n",
       "      <td>1</td>\n",
       "      <td>0</td>\n",
       "      <td>0</td>\n",
       "      <td>1</td>\n",
       "      <td>0</td>\n",
       "      <td>Good</td>\n",
       "    </tr>\n",
       "  </tbody>\n",
       "</table>\n",
       "<p>600 rows × 11 columns</p>\n",
       "</div>"
      ],
      "text/plain": [
       "     Taxable.Income  City.Population  Work.Experience  Undergrad_NO  \\\n",
       "0             68833            50047               10             1   \n",
       "1             33700           134075               18             0   \n",
       "2             36925           160205               30             1   \n",
       "3             50190           193264               15             0   \n",
       "4             81002            27533               28             1   \n",
       "..              ...              ...              ...           ...   \n",
       "595           76340            39492                7             0   \n",
       "596           69967            55369                2             0   \n",
       "597           47334           154058                0             1   \n",
       "598           98592           180083               17             0   \n",
       "599           96519           158137               16             1   \n",
       "\n",
       "     Undergrad_YES  Marital.Status_Divorced  Marital.Status_Married  \\\n",
       "0                0                        0                       0   \n",
       "1                1                        1                       0   \n",
       "2                0                        0                       1   \n",
       "3                1                        0                       0   \n",
       "4                0                        0                       1   \n",
       "..             ...                      ...                     ...   \n",
       "595              1                        1                       0   \n",
       "596              1                        1                       0   \n",
       "597              0                        1                       0   \n",
       "598              1                        0                       1   \n",
       "599              0                        1                       0   \n",
       "\n",
       "     Marital.Status_Single  Urban_NO  Urban_YES Category  \n",
       "0                        1         0          1     Good  \n",
       "1                        0         0          1     Good  \n",
       "2                        0         0          1     Good  \n",
       "3                        1         0          1     Good  \n",
       "4                        0         1          0     Good  \n",
       "..                     ...       ...        ...      ...  \n",
       "595                      0         0          1     Good  \n",
       "596                      0         0          1     Good  \n",
       "597                      0         0          1     Good  \n",
       "598                      0         1          0     Good  \n",
       "599                      0         1          0     Good  \n",
       "\n",
       "[600 rows x 11 columns]"
      ]
     },
     "execution_count": 13,
     "metadata": {},
     "output_type": "execute_result"
    }
   ],
   "source": [
    "fraud1['Category'] = pd.cut(fraud1['Taxable.Income'], \n",
    "                        bins=[0,30000, np.inf], \n",
    "                        labels=['Risky','Good'],\n",
    "                        include_lowest=True)\n",
    "fraud1"
   ]
  },
  {
   "cell_type": "markdown",
   "id": "64bc1d76",
   "metadata": {},
   "source": [
    "# Random forest"
   ]
  },
  {
   "cell_type": "code",
   "execution_count": 14,
   "id": "b1976960",
   "metadata": {},
   "outputs": [],
   "source": [
    "from pandas import read_csv\n",
    "from sklearn.model_selection import KFold\n",
    "from sklearn.model_selection import cross_val_score\n",
    "from sklearn.ensemble import RandomForestClassifier"
   ]
  },
  {
   "cell_type": "code",
   "execution_count": 15,
   "id": "e44411b4",
   "metadata": {},
   "outputs": [],
   "source": [
    "array = fraud1.values\n",
    "X = array[:,1:10]\n",
    "Y = array[:,10]"
   ]
  },
  {
   "cell_type": "code",
   "execution_count": 16,
   "id": "c9ee057c",
   "metadata": {},
   "outputs": [
    {
     "name": "stdout",
     "output_type": "stream",
     "text": [
      "72.67\n"
     ]
    }
   ],
   "source": [
    "num_trees = 100\n",
    "max_features = 3\n",
    "kfold = KFold(n_splits=10, random_state=7, shuffle = True)\n",
    "model = RandomForestClassifier(n_estimators=num_trees, max_features=max_features)\n",
    "results = cross_val_score(model, X, Y, cv=kfold)\n",
    "print(round(results.mean()*100,2))"
   ]
  },
  {
   "cell_type": "markdown",
   "id": "c16f0c7b",
   "metadata": {},
   "source": [
    "# Ensemble techniques\n",
    " Bagging"
   ]
  },
  {
   "cell_type": "code",
   "execution_count": 18,
   "id": "c8ed7047",
   "metadata": {},
   "outputs": [
    {
     "name": "stdout",
     "output_type": "stream",
     "text": [
      "72.67\n"
     ]
    }
   ],
   "source": [
    "from pandas import read_csv\n",
    "from sklearn.model_selection import KFold\n",
    "from sklearn.model_selection import cross_val_score\n",
    "from sklearn.ensemble import BaggingClassifier\n",
    "from sklearn.tree import DecisionTreeClassifier\n",
    "\n",
    "seed = 7\n",
    "\n",
    "cart = DecisionTreeClassifier()\n",
    "model1 = BaggingClassifier(base_estimator=cart, n_estimators=num_trees, random_state=seed)\n",
    "results1 = cross_val_score(model1, X, Y, cv=kfold)\n",
    "print(round(results.mean()*100,2))"
   ]
  },
  {
   "cell_type": "markdown",
   "id": "383a568d",
   "metadata": {},
   "source": [
    "# Boosting\n",
    "#AdaBoost Classification"
   ]
  },
  {
   "cell_type": "code",
   "execution_count": 20,
   "id": "9a43824d",
   "metadata": {},
   "outputs": [
    {
     "name": "stdout",
     "output_type": "stream",
     "text": [
      "72.67\n"
     ]
    }
   ],
   "source": [
    "from pandas import read_csv\n",
    "from sklearn.model_selection import KFold\n",
    "from sklearn.model_selection import cross_val_score\n",
    "from sklearn.ensemble import AdaBoostClassifier\n",
    "\n",
    "model2 = AdaBoostClassifier(n_estimators=num_trees, random_state=seed)\n",
    "results2 = cross_val_score(model2, X, Y, cv=kfold)\n",
    "print(round(results.mean()*100,2))"
   ]
  },
  {
   "cell_type": "markdown",
   "id": "cef5d0d2",
   "metadata": {},
   "source": [
    "# Stacking\n",
    "#Stacking Ensemble for Classification"
   ]
  },
  {
   "cell_type": "code",
   "execution_count": 22,
   "id": "5725bd85",
   "metadata": {},
   "outputs": [],
   "source": [
    "from sklearn.model_selection import KFold\n",
    "from sklearn.model_selection import cross_val_score\n",
    "from sklearn.linear_model import LogisticRegression\n",
    "from sklearn.tree import DecisionTreeClassifier\n",
    "from sklearn.svm import SVC\n",
    "from sklearn.ensemble import VotingClassifier"
   ]
  },
  {
   "cell_type": "markdown",
   "id": "e7eaf6c7",
   "metadata": {},
   "source": [
    "# Iteration = 1"
   ]
  },
  {
   "cell_type": "code",
   "execution_count": 23,
   "id": "cad010dc",
   "metadata": {},
   "outputs": [
    {
     "name": "stdout",
     "output_type": "stream",
     "text": [
      "78.66666666666666\n"
     ]
    }
   ],
   "source": [
    "estimators = []\n",
    "model3 = LogisticRegression(max_iter=500)\n",
    "estimators.append(('logistic', model3))\n",
    "model4 = DecisionTreeClassifier()\n",
    "estimators.append(('cart', model4))\n",
    "model5 = SVC()\n",
    "estimators.append(('svm', model5))\n",
    "model6 = BaggingClassifier(base_estimator=cart, n_estimators=num_trees, random_state=seed)\n",
    "estimators.append(('bagging', model6))\n",
    "model7 = AdaBoostClassifier(n_estimators=num_trees, random_state=seed)\n",
    "estimators.append(('boosting', model7))\n",
    "\n",
    "# create the ensemble modelIter\n",
    "ensemble = VotingClassifier(estimators)\n",
    "results3 = cross_val_score(ensemble, X, Y, cv=kfold)\n",
    "print(results3.mean()*100)"
   ]
  },
  {
   "cell_type": "markdown",
   "id": "47b316e8",
   "metadata": {},
   "source": [
    "# Iteration = 2"
   ]
  },
  {
   "cell_type": "code",
   "execution_count": 24,
   "id": "0adbea84",
   "metadata": {},
   "outputs": [
    {
     "name": "stdout",
     "output_type": "stream",
     "text": [
      "78.83333333333333\n"
     ]
    }
   ],
   "source": [
    "estimators = []\n",
    "model8 = LogisticRegression(max_iter=500)\n",
    "estimators.append(('logistic', model8))\n",
    "model9 = DecisionTreeClassifier()\n",
    "estimators.append(('cart', model9))\n",
    "model10 = BaggingClassifier(base_estimator=cart, n_estimators=num_trees, random_state=seed)\n",
    "estimators.append(('bagging', model10))\n",
    "model11 = AdaBoostClassifier(n_estimators=num_trees, random_state=seed)\n",
    "estimators.append(('boosting', model11))\n",
    "\n",
    "# create the ensemble model\n",
    "ensemble = VotingClassifier(estimators)\n",
    "results4 = cross_val_score(ensemble, X, Y, cv=kfold)\n",
    "print(results4.mean()*100)"
   ]
  },
  {
   "cell_type": "markdown",
   "id": "29c36a21",
   "metadata": {},
   "source": [
    "# Iteration = 3"
   ]
  },
  {
   "cell_type": "code",
   "execution_count": 25,
   "id": "c43a4229",
   "metadata": {},
   "outputs": [
    {
     "name": "stdout",
     "output_type": "stream",
     "text": [
      "78.33333333333333\n"
     ]
    }
   ],
   "source": [
    "estimators = []\n",
    "model12 = LogisticRegression(max_iter=500)\n",
    "estimators.append(('logistic', model12))\n",
    "model13 = DecisionTreeClassifier()\n",
    "estimators.append(('cart', model13))\n",
    "model14 = AdaBoostClassifier(n_estimators=num_trees, random_state=seed)\n",
    "estimators.append(('boosting', model14))\n",
    "\n",
    "# create the ensemble model\n",
    "ensemble = VotingClassifier(estimators)\n",
    "results5 = cross_val_score(ensemble, X, Y, cv=kfold)\n",
    "print(results5.mean()*100)"
   ]
  },
  {
   "cell_type": "markdown",
   "id": "c5496999",
   "metadata": {},
   "source": [
    "# Iteration = 4"
   ]
  },
  {
   "cell_type": "code",
   "execution_count": 26,
   "id": "a5255cad",
   "metadata": {},
   "outputs": [
    {
     "name": "stdout",
     "output_type": "stream",
     "text": [
      "78.33333333333333\n"
     ]
    }
   ],
   "source": [
    "estimators = []\n",
    "model15 = DecisionTreeClassifier()\n",
    "estimators.append(('cart', model15))\n",
    "model16 = AdaBoostClassifier(n_estimators=num_trees, random_state=seed)\n",
    "estimators.append(('boosting', model16))\n",
    "\n",
    "# create the ensemble model\n",
    "ensemble = VotingClassifier(estimators)\n",
    "results6 = cross_val_score(ensemble, X, Y, cv=kfold)\n",
    "print(results6.mean()*100)"
   ]
  },
  {
   "cell_type": "markdown",
   "id": "ef1a50ec",
   "metadata": {},
   "source": [
    "# Iteration = 5"
   ]
  },
  {
   "cell_type": "code",
   "execution_count": 27,
   "id": "1938a3e7",
   "metadata": {},
   "outputs": [
    {
     "name": "stdout",
     "output_type": "stream",
     "text": [
      "78.33333333333333\n"
     ]
    }
   ],
   "source": [
    "estimators = []\n",
    "model15 = DecisionTreeClassifier()\n",
    "estimators.append(('logistic', model15))\n",
    "model16 = AdaBoostClassifier(n_estimators=num_trees, random_state=seed)\n",
    "estimators.append(('boosting', model16))\n",
    "\n",
    "# create the ensemble model\n",
    "ensemble = VotingClassifier(estimators)\n",
    "results6 = cross_val_score(ensemble, X, Y, cv=kfold)\n",
    "print(results6.mean()*100)"
   ]
  },
  {
   "cell_type": "code",
   "execution_count": null,
   "id": "c4130240",
   "metadata": {},
   "outputs": [],
   "source": []
  }
 ],
 "metadata": {
  "kernelspec": {
   "display_name": "Python 3 (ipykernel)",
   "language": "python",
   "name": "python3"
  },
  "language_info": {
   "codemirror_mode": {
    "name": "ipython",
    "version": 3
   },
   "file_extension": ".py",
   "mimetype": "text/x-python",
   "name": "python",
   "nbconvert_exporter": "python",
   "pygments_lexer": "ipython3",
   "version": "3.9.7"
  }
 },
 "nbformat": 4,
 "nbformat_minor": 5
}
